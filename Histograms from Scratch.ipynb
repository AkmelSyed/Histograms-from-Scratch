{
 "cells": [
  {
   "cell_type": "markdown",
   "id": "f7f38220-012a-4fe0-97d3-74e12b68d8a5",
   "metadata": {},
   "source": [
    "# Histograms from Scratch\n",
    "\n",
    "Histograms are arguably the most useful plot in data science.\n",
    "\n",
    "Funny thing is, they're really just a frequency bar chart.\n",
    "\n",
    "Matplotlib has a histogram function, but ever wondered how to make it from scratch?\n",
    "\n",
    "Let me show you."
   ]
  },
  {
   "cell_type": "code",
   "execution_count": 1,
   "id": "0a944cd5-e612-4a5f-ad15-1c0876ce5d53",
   "metadata": {},
   "outputs": [],
   "source": [
    "import numpy as np\n",
    "import matplotlib.pyplot as plt"
   ]
  },
  {
   "cell_type": "code",
   "execution_count": 2,
   "id": "f4bbb58b-dc87-48f4-8d63-c6de16305c37",
   "metadata": {},
   "outputs": [],
   "source": [
    "mu, sigma = 0, 0.1 # mean and standard deviation\n",
    "column = np.random.normal(mu, sigma, 1000)"
   ]
  },
  {
   "cell_type": "markdown",
   "id": "1dc7343a-a48d-4717-bd79-e5d5be20fbca",
   "metadata": {},
   "source": [
    "Making use of the bar functionality in matplotlib, we'll accomplish our task with 2 simple functions.\n",
    "\n",
    "The first function get_bins. It takes two arguments, value_counts and bins, and returns an array of evenly spaced numbers over a specified interval. \n",
    "\n",
    "The second function my_hist takes three arguments, col, bins, and width, and returns a histogram plot of the input data. It uses the get_bins function to calculate the bin intervals and the frequency of values in each bin. The plot shows the frequency of values in each bin on the y-axis and the bin intervals on the x-axis."
   ]
  },
  {
   "cell_type": "code",
   "execution_count": 3,
   "id": "c9abf147-6a2d-4c5c-b120-f8c5d94e19f8",
   "metadata": {},
   "outputs": [],
   "source": [
    "def get_bins(value_counts, bins):\n",
    "    offset = 1e-6\n",
    "    start = value_counts.min()-offset\n",
    "    stop = value_counts.max()+offset\n",
    "    return np.linspace(start=start, stop=stop, num=bins+1)\n",
    "\n",
    "def my_hist(col, bins=50, width=0.03):\n",
    "    freq = []\n",
    "    values, counts = np.unique(col, return_counts=True)\n",
    "    bin_intervals = get_bins(values, bins=bins)\n",
    "    for interval in zip(bin_intervals[:-1], bin_intervals[1:]):\n",
    "        greater_equal_than_min = (values >= min(interval))\n",
    "        less_than_max = (values < max(interval))\n",
    "        freq.append(counts[greater_equal_than_min & less_than_max].sum())\n",
    "    \n",
    "    freq = np.array(freq)\n",
    "    plt.bar(bin_intervals[1:], freq, width=width)\n",
    "    return freq, bin_intervals"
   ]
  },
  {
   "cell_type": "markdown",
   "id": "513ad8e7-b20a-4f3d-9d95-5d9b2cc3e613",
   "metadata": {},
   "source": [
    "And tadaa! Our histogram looks like matplotlib's and even returns the same arrays!"
   ]
  },
  {
   "cell_type": "code",
   "execution_count": 5,
   "id": "7ead4a68-b242-4b51-82c0-fd56a8d74c74",
   "metadata": {},
   "outputs": [
    {
     "data": {
      "text/plain": [
       "(array([ 14,  34, 102, 178, 217, 211, 155,  62,  16,  11], dtype=int64),\n",
       " array([-0.297836  , -0.23654969, -0.17526337, -0.11397706, -0.05269075,\n",
       "         0.00859557,  0.06988188,  0.13116819,  0.19245451,  0.25374082,\n",
       "         0.31502713]))"
      ]
     },
     "execution_count": 5,
     "metadata": {},
     "output_type": "execute_result"
    },
    {
     "data": {
      "image/png": "[encoded data removed]",
      "text/plain": [
       "<Figure size 432x288 with 1 Axes>"
      ]
     },
     "metadata": {
      "needs_background": "light"
     },
     "output_type": "display_data"
    }
   ],
   "source": [
    "my_hist(column, bins=10, width=0.1)"
   ]
  },
  {
   "cell_type": "code",
   "execution_count": 4,
   "id": "262341ae-ee39-4d05-a394-d797891d5fd4",
   "metadata": {},
   "outputs": [
    {
     "data": {
      "text/plain": [
       "(array([ 14.,  34., 102., 178., 217., 211., 155.,  62.,  16.,  11.]),\n",
       " array([-0.297835  , -0.23654889, -0.17526277, -0.11397666, -0.05269055,\n",
       "         0.00859557,  0.06988168,  0.13116779,  0.19245391,  0.25374002,\n",
       "         0.31502613]),\n",
       " <BarContainer object of 10 artists>)"
      ]
     },
     "execution_count": 4,
     "metadata": {},
     "output_type": "execute_result"
    },
    {
     "data": {
      "image/png": "[encoded data removed]",
      "text/plain": [
       "<Figure size 432x288 with 1 Axes>"
      ]
     },
     "metadata": {
      "needs_background": "light"
     },
     "output_type": "display_data"
    }
   ],
   "source": [
    "plt.hist(column, bins=10, width=0.1)"
   ]
  }
 ],
 "metadata": {
  "kernelspec": {
   "display_name": "Python 3 (ipykernel)",
   "language": "python",
   "name": "python3"
  },
  "language_info": {
   "codemirror_mode": {
    "name": "ipython",
    "version": 3
   },
   "file_extension": ".py",
   "mimetype": "text/x-python",
   "name": "python",
   "nbconvert_exporter": "python",
   "pygments_lexer": "ipython3",
   "version": "3.9.7"
  }
 },
 "nbformat": 4,
 "nbformat_minor": 5
}
